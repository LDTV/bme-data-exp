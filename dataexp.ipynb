{
 "cells": [
  {
   "cell_type": "markdown",
   "metadata": {},
   "source": [
    "# 20171025 - My data exploration lab notes"
   ]
  },
  {
   "cell_type": "markdown",
   "metadata": {},
   "source": [
    "# Code Like a Pythonista"
   ]
  },
  {
   "cell_type": "markdown",
   "metadata": {},
   "source": [
    "### Iterating over list/set/dict"
   ]
  },
  {
   "cell_type": "code",
   "execution_count": 137,
   "metadata": {},
   "outputs": [
    {
     "name": "stdout",
     "output_type": "stream",
     "text": [
      "dog\n",
      "monkey\n",
      "fish\n",
      "cat\n"
     ]
    }
   ],
   "source": [
    "# Iterating over set\n",
    "animals = {'cat', 'dog', 'fish', 'monkey'}\n",
    "for animal in animals:\n",
    "    print('{}'.format(animal))"
   ]
  },
  {
   "cell_type": "code",
   "execution_count": 138,
   "metadata": {},
   "outputs": [
    {
     "name": "stdout",
     "output_type": "stream",
     "text": [
      "0: dog\n",
      "1: monkey\n",
      "2: fish\n",
      "3: cat\n"
     ]
    }
   ],
   "source": [
    "# Iterating over set (and generating an index)\n",
    "animals = {'cat', 'dog', 'fish', 'monkey'}\n",
    "for idx, animal in enumerate(animals):\n",
    "    print('{}: {}'.format(idx,animal))"
   ]
  },
  {
   "cell_type": "markdown",
   "metadata": {},
   "source": [
    "### List/Set/Dict Comprehensions\n",
    "\n",
    "Python supports list comprehensions, that can be used to construct lists in a very natural way, similar to mathematic construction.\n",
    "\n",
    "\n",
    "[ output_expression() for(set of values to iterate) if(conditional filtering) ]\n"
   ]
  },
  {
   "cell_type": "code",
   "execution_count": 139,
   "metadata": {},
   "outputs": [
    {
     "name": "stdout",
     "output_type": "stream",
     "text": [
      "[0, 1, 4, 9, 16, 25, 36, 49, 64, 81]\n",
      "[0, 4, 16, 36, 64]\n",
      "{0, 1, 2, 3, 4, 5, 6, 7, 8, 9}\n",
      "{'a': 17, 'b': 34, 'z': 3}\n",
      "{'Alice', 'Bob', 'John'}\n",
      "[[1, 0, 0], [0, 1, 0], [0, 0, 1]]\n"
     ]
    }
   ],
   "source": [
    "#List comprehension\n",
    "list1 = [x**2 for x in range(10)]\n",
    "print(list1)\n",
    "\n",
    "list2 = [x for x in list1 if x % 2 == 0]\n",
    "print(list2)\n",
    "\n",
    "#Set comprehension\n",
    "nums = {x for x in range(10)}\n",
    "print(nums)  # Prints \"{0, 1, 2, 3, 4, 5}\"\n",
    "\n",
    "#Dict comprehension\n",
    "mcase = {'a':10, 'b': 34, 'A': 7, 'Z':3}\n",
    "mcase_frequency = { k.lower() : mcase.get(k.lower(), 0) + mcase.get(k.upper(), 0) for k in mcase.keys() }\n",
    "print(mcase_frequency)\n",
    "\n",
    "#Set comprehension from list\n",
    "names = [ 'Bob', 'JOHN', 'alice', 'bob', 'ALICE', 'J', 'Bob' ]\n",
    "names_set = { name[0].upper() + name[1:].lower() for name in names if len(name) > 1 }\n",
    "print(names_set)\n",
    "\n",
    "#Nested list comprehension\n",
    "matrix = [ [ 1 if item_idx == row_idx else 0 for item_idx in range(0, 3) ] for row_idx in range(0, 3) ]\n",
    "print(matrix)"
   ]
  },
  {
   "cell_type": "markdown",
   "metadata": {},
   "source": [
    "### The power of comprehension"
   ]
  },
  {
   "cell_type": "code",
   "execution_count": 140,
   "metadata": {},
   "outputs": [
    {
     "name": "stdout",
     "output_type": "stream",
     "text": [
      "[2, 6, 10, 14, 18, 22, 26, 30, 34, 38]\n",
      "[2, 6, 10, 14, 18, 22, 26, 30, 34, 38]\n"
     ]
    }
   ],
   "source": [
    "numbers = range(20)\n",
    "\n",
    "numbers_doubled_odds = []\n",
    "for n in numbers:\n",
    "    if n%2 == 1:\n",
    "        numbers_doubled_odds.append(n*2)\n",
    "        \n",
    "print(numbers_doubled_odds)\n",
    "\n",
    "#vs\n",
    "\n",
    "numbers_doubled_odds = [n*2 for n in numbers if n%2==1]\n",
    "print(numbers_doubled_odds)"
   ]
  },
  {
   "cell_type": "code",
   "execution_count": 141,
   "metadata": {},
   "outputs": [
    {
     "name": "stdout",
     "output_type": "stream",
     "text": [
      "[2, 3, 5, 7, 11, 13, 17, 19, 23, 29, 31, 37, 41, 43, 47, 53, 59, 61, 67, 71, 73, 79, 83, 89, 97]\n"
     ]
    }
   ],
   "source": [
    "# Calculating prime numbers\n",
    "noprimes = [j for i in range(2, 8) for j in range(i*2, 100, i)]\n",
    "primes = [x for x in range(2, 100) if x not in noprimes]\n",
    "print(primes)"
   ]
  },
  {
   "cell_type": "markdown",
   "metadata": {},
   "source": [
    "# Basic Numpy data structures"
   ]
  },
  {
   "cell_type": "code",
   "execution_count": 142,
   "metadata": {},
   "outputs": [
    {
     "name": "stdout",
     "output_type": "stream",
     "text": [
      "Data in arr1D:\n",
      " [ 1  2  3  4  5  6  7  8  9 10]\n"
     ]
    },
    {
     "data": {
      "text/plain": [
       "array([ 1,  2,  3,  4,  5,  6,  7,  8,  9, 10])"
      ]
     },
     "execution_count": 142,
     "metadata": {},
     "output_type": "execute_result"
    }
   ],
   "source": [
    "import numpy as np\n",
    "\n",
    "array1D = np.array([1,2,3,4,5,6,7,8, 9, 10])\n",
    "\n",
    "#Standard print\n",
    "print('Data in arr1D:\\n', array1D)\n",
    "\n",
    "#The last line is evaluated\n",
    "array1D"
   ]
  },
  {
   "cell_type": "code",
   "execution_count": 143,
   "metadata": {
    "scrolled": true
   },
   "outputs": [
    {
     "name": "stdout",
     "output_type": "stream",
     "text": [
      "Data in arr2D:\n",
      " [[1 2 3 4]\n",
      " [5 6 7 8]]\n"
     ]
    },
    {
     "data": {
      "text/plain": [
       "array([[1, 2, 3, 4],\n",
       "       [5, 6, 7, 8]])"
      ]
     },
     "execution_count": 143,
     "metadata": {},
     "output_type": "execute_result"
    }
   ],
   "source": [
    "array2D = np.array([[1,2,3,4],[5,6,7,8]])\n",
    "\n",
    "print('Data in arr2D:\\n', array2D)\n",
    "\n",
    "array2D"
   ]
  },
  {
   "cell_type": "code",
   "execution_count": 144,
   "metadata": {},
   "outputs": [
    {
     "name": "stdout",
     "output_type": "stream",
     "text": [
      "[[1 2 3 4]\n",
      " [5 6 7 8]]\n",
      "[[2 3]\n",
      " [6 7]]\n"
     ]
    }
   ],
   "source": [
    "# Slicing works the same as in standard Python\n",
    "\n",
    "array2D = np.array([[1,2,3,4],[5,6,7,8]])\n",
    "print(array2D)\n",
    "\n",
    "mini_array2D = array2D[:2, 1:3]\n",
    "print(mini_array2D)"
   ]
  },
  {
   "cell_type": "markdown",
   "metadata": {},
   "source": [
    "## Creating arrays"
   ]
  },
  {
   "cell_type": "code",
   "execution_count": 145,
   "metadata": {},
   "outputs": [
    {
     "name": "stdout",
     "output_type": "stream",
     "text": [
      "[[ 0.  0.  0.  0.]\n",
      " [ 0.  0.  0.  0.]]\n",
      "[[ 1.  1.  1.  1.]\n",
      " [ 1.  1.  1.  1.]]\n",
      "[[ 0.8  0.8  0.8  0.8]\n",
      " [ 0.8  0.8  0.8  0.8]]\n",
      "[[ 0.10211058  0.24065887  0.76444837  0.2339221 ]\n",
      " [ 0.94757495  0.52810182  0.71778621  0.7965763 ]]\n",
      "<class 'numpy.ndarray'>\n",
      "(2, 4)\n"
     ]
    }
   ],
   "source": [
    "array2D = np.zeros((2,4))\n",
    "print(array2D)\n",
    "\n",
    "array2D = np.ones((2,4))\n",
    "print(array2D)\n",
    "\n",
    "array2D = np.full((2,4),0.8)\n",
    "print(array2D)\n",
    "\n",
    "array2D = np.random.random((2,4))\n",
    "print(array2D)\n",
    "\n",
    "print(type(array2D))\n",
    "print(array2D.shape)"
   ]
  },
  {
   "cell_type": "markdown",
   "metadata": {},
   "source": [
    "## Changing the shape of arrays"
   ]
  },
  {
   "cell_type": "code",
   "execution_count": 146,
   "metadata": {},
   "outputs": [
    {
     "name": "stdout",
     "output_type": "stream",
     "text": [
      "[ 0  1  2  3  4  5  6  7  8  9 10 11] \n",
      "\n",
      "[[ 0  1  2  3  4  5]\n",
      " [ 6  7  8  9 10 11]] \n",
      "\n",
      "[[ 0  1]\n",
      " [ 2  3]\n",
      " [ 4  5]\n",
      " [ 6  7]\n",
      " [ 8  9]\n",
      " [10 11]] \n",
      "\n",
      "[[[ 0  1  2]\n",
      "  [ 3  4  5]]\n",
      "\n",
      " [[ 6  7  8]\n",
      "  [ 9 10 11]]] \n",
      "\n",
      "[[[ 0  1]\n",
      "  [ 2  3]]\n",
      "\n",
      " [[ 4  5]\n",
      "  [ 6  7]]\n",
      "\n",
      " [[ 8  9]\n",
      "  [10 11]]] \n",
      "\n"
     ]
    }
   ],
   "source": [
    "array1D = np.arange(12)\n",
    "print(array1D,'\\n')\n",
    "\n",
    "array2D = array1D.reshape(2,6) \n",
    "print(array2D,'\\n')\n",
    "\n",
    "array2D = array1D.reshape(6,2) \n",
    "print(array2D,'\\n')\n",
    "\n",
    "array3D = array1D.reshape(2,2,3) \n",
    "print(array3D,'\\n')\n",
    "\n",
    "array3D = array1D.reshape(3,2,2) \n",
    "print(array3D,'\\n')"
   ]
  },
  {
   "cell_type": "markdown",
   "metadata": {},
   "source": [
    "## Statistics"
   ]
  },
  {
   "cell_type": "code",
   "execution_count": 147,
   "metadata": {
    "scrolled": true
   },
   "outputs": [
    {
     "name": "stdout",
     "output_type": "stream",
     "text": [
      "\n",
      " Numpy 2-dim array\n",
      "[[-0.33751041 -0.85093332  0.24050524  0.11728559 -0.391602  ]\n",
      " [-0.02055621  1.13620904 -1.47137912  0.31918722 -0.25383761]\n",
      " [-0.7569918  -0.32384953  0.74389342 -0.35678398  0.50087141]\n",
      " [-1.03086998  1.22732508 -0.94326729 -0.38698199  0.66674891]\n",
      " [-0.37375803 -1.09732807  0.48505077 -0.29943458 -1.02708987]\n",
      " [-0.77033472 -0.34782198 -1.19877547  0.37223852  0.69907515]\n",
      " [-0.10702371 -1.31445911 -0.78132003  0.92006811  0.73445245]\n",
      " [-1.10793457  0.63851094  0.21027464 -1.42701194  0.37550248]\n",
      " [-1.39081393 -1.20265859  1.30885407  1.34242445 -0.30183124]\n",
      " [ 1.24516034 -0.48164939  0.31284454 -0.31010799  0.42575671]]\n",
      "\n",
      " Standard deviation of array\n",
      "0.796310885871\n"
     ]
    }
   ],
   "source": [
    "print('\\n Numpy 2-dim array')\n",
    "tab10n5 = np.random.randn(10,5)\n",
    "\n",
    "print(tab10n5)\n",
    "print('\\n Standard deviation of array')\n",
    "print(np.std(tab10n5))"
   ]
  },
  {
   "cell_type": "code",
   "execution_count": 148,
   "metadata": {},
   "outputs": [
    {
     "name": "stdout",
     "output_type": "stream",
     "text": [
      "Minimum value from array: -1.47137912191\n",
      "\n",
      "Mean column-wise: \n",
      " [-0.24445098 -0.05807534 -0.0385721  -0.09340905 -0.46251196 -0.2491237\n",
      " -0.10965646 -0.26213169 -0.04880505  0.23840084]\n",
      "\n",
      "Data histogram: \n",
      " (array([6, 5, 4, 6, 7, 3, 7, 6, 1, 5]), array([-1.47137912, -1.18999876, -0.90861841, -0.62723805, -0.34585769,\n",
      "       -0.06447733,  0.21690302,  0.49828338,  0.77966374,  1.0610441 ,\n",
      "        1.34242445]))\n"
     ]
    }
   ],
   "source": [
    "#TODO Statistics functions\n",
    "print('Minimum value from array:', np.amin(np.amin(tab10n5)))\n",
    "print('\\nMean column-wise: \\n', np.mean(tab10n5, 1))\n",
    "print('\\nData histogram: \\n', np.histogram(tab10n5))"
   ]
  },
  {
   "cell_type": "markdown",
   "metadata": {},
   "source": [
    "## Stacking together different arrays\n",
    "\n",
    "Take a quick look at [tutorial](https://docs.scipy.org/doc/numpy-dev/user/quickstart.html)\n",
    "and fill the next cell\n"
   ]
  },
  {
   "cell_type": "code",
   "execution_count": 149,
   "metadata": {},
   "outputs": [
    {
     "name": "stdout",
     "output_type": "stream",
     "text": [
      "a=\n",
      " [[1 2 3]\n",
      " [4 5 6]]\n",
      "\n",
      "b=\n",
      " [[ 7  8  9]\n",
      " [10 11 12]]\n",
      "\n",
      "vstack((a,b))=\n",
      " [[ 1  2  3]\n",
      " [ 4  5  6]\n",
      " [ 7  8  9]\n",
      " [10 11 12]]\n",
      "\n",
      "hstack((a,b))=\n",
      " [[ 1  2  3  7  8  9]\n",
      " [ 4  5  6 10 11 12]]\n"
     ]
    }
   ],
   "source": [
    "#TODO stacking arrays\n",
    "a = np.array([[1,2,3],[4,5,6]])\n",
    "b = np.array([[7,8,9],[10,11,12]])\n",
    "print('a=\\n', a)\n",
    "print('\\nb=\\n', b)\n",
    "print('\\nvstack((a,b))=\\n', np.vstack((a,b)))\n",
    "print('\\nhstack((a,b))=\\n', np.hstack((a,b)))"
   ]
  },
  {
   "cell_type": "markdown",
   "metadata": {},
   "source": [
    "## Plotting"
   ]
  },
  {
   "cell_type": "code",
   "execution_count": 150,
   "metadata": {},
   "outputs": [
    {
     "data": {
      "image/png": "[encoded data removed]",
      "text/plain": [
       "<matplotlib.figure.Figure at 0x7fd920d8e9b0>"
      ]
     },
     "metadata": {},
     "output_type": "display_data"
    }
   ],
   "source": [
    "%matplotlib inline\n",
    "\n",
    "import numpy as np\n",
    "import matplotlib.pyplot as plt\n",
    "\n",
    "x = np.linspace(0, 3*np.pi, 50)\n",
    "plt.plot(x, np.sin(x**2))\n",
    "plt.title('A simple chirp');"
   ]
  },
  {
   "cell_type": "markdown",
   "metadata": {},
   "source": [
    "## Importing data"
   ]
  },
  {
   "cell_type": "code",
   "execution_count": 151,
   "metadata": {},
   "outputs": [
    {
     "name": "stdout",
     "output_type": "stream",
     "text": [
      "[[ 7363000.  7736000.  7864000.  7984000.  8121000.  8233000.  8330000.\n",
      "   8441000.]\n",
      " [ 5187000.  5171000.  5199000.  5243000.  5176000.  5270000.  5337000.\n",
      "   5359000.]\n",
      " [  191000.   209000.   229000.   272000.   277000.   285000.   279000.\n",
      "    290000.]\n",
      " [   47000.   113000.   111000.   127000.   151000.   145000.   143000.\n",
      "    178000.]\n",
      " [   56000.    97000.    85000.    91000.   104000.   123000.   135000.\n",
      "    134000.]]\n"
     ]
    }
   ],
   "source": [
    "import csv\n",
    "import numpy as np\n",
    "\n",
    "data = np.genfromtxt('country-of-birth-london-min.csv', delimiter=';')\n",
    "years = data[0,1:]\n",
    "data = data[1:,1:]\n",
    "print(data[:5,:])"
   ]
  },
  {
   "cell_type": "code",
   "execution_count": 152,
   "metadata": {},
   "outputs": [],
   "source": [
    "raw_data = np.genfromtxt('country-of-birth-london-min.csv', delimiter=';', dtype=None)\n",
    "countries = raw_data[1:,:1].astype(str)\n",
    "# print(countries)"
   ]
  },
  {
   "cell_type": "code",
   "execution_count": 153,
   "metadata": {},
   "outputs": [],
   "source": [
    "#TODO - Calculate summary statistics\n",
    "header = np.genfromtxt('country-of-birth-london-min.csv', max_rows=1, delimiter=';', dtype='i4')\n",
    "header = header[1:]\n",
    "percent_of_british = data[1,:]/data[0,:] *100 # calculate precent of British citizens in total\n",
    "differences = [data[0, i+1] - data[0, i] for i in range (1,7)]\n",
    "births_difference_pc = (differences / data[0,1:7]) * 100\n"
   ]
  },
  {
   "cell_type": "code",
   "execution_count": 154,
   "metadata": {},
   "outputs": [
    {
     "data": {
      "image/png": "[encoded data removed]",
      "text/plain": [
       "<matplotlib.figure.Figure at 0x7fd920d51c18>"
      ]
     },
     "metadata": {},
     "output_type": "display_data"
    },
    {
     "data": {
      "image/png": "[encoded data removed]",
      "text/plain": [
       "<matplotlib.figure.Figure at 0x7fd920d51b70>"
      ]
     },
     "metadata": {},
     "output_type": "display_data"
    }
   ],
   "source": [
    "#TODO - Visualize summary using matplotlib charts\n",
    "plt.scatter(years,percent_of_british)\n",
    "plt.xticks(np.arange(min(years), max(years)+1, 1.0))\n",
    "plt.title('Percent of UK citizens born in London.');\n",
    "#x1,x2,y1,y2 = plt.axis()\n",
    "#plt.axis((x1,x2,0,1))\n",
    "plt.show()\n",
    "\n",
    "plt.plot(years[1:7], births_difference_pc)\n",
    "plt.title('% Increase in total births number, related to previous year.');\n",
    "plt.show()"
   ]
  },
  {
   "cell_type": "markdown",
   "metadata": {
    "collapsed": true
   },
   "source": [
    "# Miniproject - data exploration\n",
    "\n",
    "[Global Terrorism Database](https://www.kaggle.com/START-UMD/gtd)"
   ]
  },
  {
   "cell_type": "code",
   "execution_count": 155,
   "metadata": {},
   "outputs": [],
   "source": [
    "# Instructions will be given during lab"
   ]
  },
  {
   "cell_type": "code",
   "execution_count": null,
   "metadata": {},
   "outputs": [],
   "source": []
  }
 ],
 "metadata": {
  "kernelspec": {
   "display_name": "Python 3",
   "language": "python",
   "name": "python3"
  },
  "language_info": {
   "codemirror_mode": {
    "name": "ipython",
    "version": 3
   },
   "file_extension": ".py",
   "mimetype": "text/x-python",
   "name": "python",
   "nbconvert_exporter": "python",
   "pygments_lexer": "ipython3",
   "version": "3.6.3"
  }
 },
 "nbformat": 4,
 "nbformat_minor": 1
}
